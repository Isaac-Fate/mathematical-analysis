{
 "cells": [
  {
   "cell_type": "code",
   "execution_count": 77,
   "metadata": {},
   "outputs": [],
   "source": [
    "from pathlib import Path\n",
    "import numpy as np\n",
    "from matplotlib.axes import Axes\n",
    "import matplotlib.pyplot as plt\n",
    "\n",
    "\n",
    "from explot import *\n",
    "\n",
    "plt.style.use(\"diagram\")\n",
    "figures_dir = Path(\"../../tex/figures\")\n",
    "\n",
    "color_map = plt.get_cmap(\"tab10\")"
   ]
  },
  {
   "cell_type": "code",
   "execution_count": 122,
   "metadata": {},
   "outputs": [
    {
     "data": {
      "image/png": "[encoded data removed]",
      "text/plain": [
       "<Figure size 1200x150 with 1 Axes>"
      ]
     },
     "metadata": {},
     "output_type": "display_data"
    }
   ],
   "source": [
    "ax: Axes\n",
    "fig, ax = plt.subplots(1, 1, figsize=(8, 1))\n",
    "\n",
    "\n",
    "ax.plot((0.0, 0.5), (0.0, 0.0), color=color_map(0))\n",
    "\n",
    "ax.plot((0.5, 1.5), (0.0, 0.0), color=color_map(1))\n",
    "ax.plot((0.5, 0.5), (0.1, -0.1))\n",
    "ax.annotate(\n",
    "    f\"$x_{{k-1}}$\",\n",
    "    (0.5, 0.0),\n",
    "    xytext=(0.4, -0.2),\n",
    ")\n",
    "\n",
    "ax.plot((1.5, 2.3), (0.0, 0.0), color=color_map(0))\n",
    "ax.plot((1.5, 1.5), (0.1, -0.1))\n",
    "ax.annotate(\n",
    "    f\"$t_{{k}}$\",\n",
    "    (1.5, 0.0),\n",
    "    xytext=(1.45, 0.2),\n",
    ")\n",
    "\n",
    "ax.plot((2.3, 3.8), (0.0, 0.0), color=color_map(1))\n",
    "ax.plot((2.3, 2.3), (0.1, -0.1))\n",
    "ax.annotate(\n",
    "    f\"$x_{{k}}$\",\n",
    "    (2.3, 0.0),\n",
    "    xytext=(2.25, -0.2),\n",
    ")\n",
    "\n",
    "ax.plot((3.8, 4.6), (0.0, 0.0), color=color_map(0))\n",
    "ax.plot((3.8, 3.8), (0.1, -0.1))\n",
    "ax.annotate(\n",
    "    f\"$t_{{k+1}}$\",\n",
    "    (3.8, 0.0),\n",
    "    xytext=(3.7, 0.2),\n",
    ")\n",
    "\n",
    "ax.plot((4.6, 5.2), (0.0, 0.0), color=color_map(1))\n",
    "ax.plot((4.6, 4.6), (0.1, -0.1))\n",
    "ax.annotate(\n",
    "    f\"$x_{{k+1}}$\",\n",
    "    (4.6, 0.0),\n",
    "    xytext=(4.5, -0.2),\n",
    ")\n",
    "\n",
    "\n",
    "ax.axis(\"equal\")\n",
    "plt.tight_layout()\n",
    "plt.show()\n",
    "\n",
    "fig.savefig(figures_dir.joinpath(\"integration-by-parts-proof-diagram.png\"))"
   ]
  },
  {
   "cell_type": "code",
   "execution_count": 34,
   "metadata": {},
   "outputs": [],
   "source": []
  },
  {
   "cell_type": "code",
   "execution_count": null,
   "metadata": {},
   "outputs": [],
   "source": []
  }
 ],
 "metadata": {
  "kernelspec": {
   "display_name": "math",
   "language": "python",
   "name": "python3"
  },
  "language_info": {
   "codemirror_mode": {
    "name": "ipython",
    "version": 3
   },
   "file_extension": ".py",
   "mimetype": "text/x-python",
   "name": "python",
   "nbconvert_exporter": "python",
   "pygments_lexer": "ipython3",
   "version": "3.11.8"
  }
 },
 "nbformat": 4,
 "nbformat_minor": 2
}
