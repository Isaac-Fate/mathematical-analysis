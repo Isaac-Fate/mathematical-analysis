{
 "cells": [
  {
   "cell_type": "code",
   "execution_count": 107,
   "metadata": {},
   "outputs": [],
   "source": [
    "import os\n",
    "from itertools import filterfalse\n",
    "import re\n",
    "import pandas as pd\n",
    "\n",
    "ENV_NAMES = [\n",
    "    \"theorem\",\n",
    "    \"definition\",\n",
    "    \"proposition\",\n",
    "    \"lemma\",\n",
    "    \"corollary\",\n",
    "    \"remark\",\n",
    "    \"example\"\n",
    "]"
   ]
  },
  {
   "cell_type": "code",
   "execution_count": 108,
   "metadata": {},
   "outputs": [
    {
     "data": {
      "text/plain": [
       "definition    10\n",
       "theorem       51\n",
       "lemma          4\n",
       "corollary      3\n",
       "example       16\n",
       "remark         8\n",
       "dtype: int64"
      ]
     },
     "execution_count": 108,
     "metadata": {},
     "output_type": "execute_result"
    }
   ],
   "source": [
    "parent_dir = os.pardir\n",
    "tex_dir = os.path.join(parent_dir, \"tex\")\n",
    "\n",
    "file_names = list(filterfalse(\n",
    "    lambda f : not f.endswith(\".tex\"), \n",
    "    os.listdir(tex_dir)\n",
    "))\n",
    "\n",
    "assert len(file_names) > 0\n",
    "\n",
    "file_name = file_names[0]\n",
    "file_path = os.path.realpath(\n",
    "    os.path.join(tex_dir, file_name)\n",
    ")\n",
    "\n",
    "with open(file_path, \"r\") as f:\n",
    "    text = f.read()\n",
    "\n",
    "def get_env_occurrence(text: str, env_name: str) -> int:\n",
    "    pattern = r\"\\\\begin{\" + env_name + r\"}\"\n",
    "    return len(re.findall(pattern, text))\n",
    "\n",
    "env_dict = {}\n",
    "for env_name in [\n",
    "        \"definition\", \n",
    "        \"theorem\", \n",
    "        \"lemma\", \n",
    "        \"corollary\",\n",
    "        \"example\",\n",
    "        \"remark\"\n",
    "    ]:\n",
    "    env_dict[env_name] = get_env_occurrence(text, env_name)\n",
    "pd.Series(env_dict)"
   ]
  },
  {
   "cell_type": "code",
   "execution_count": 109,
   "metadata": {},
   "outputs": [
    {
     "data": {
      "text/plain": [
       "def     3\n",
       "thm    42\n",
       "lem     3\n",
       "cor     1\n",
       "pro     3\n",
       "eg      6\n",
       "eq     97\n",
       "ex      3\n",
       "sec     1\n",
       "dtype: int64"
      ]
     },
     "execution_count": 109,
     "metadata": {},
     "output_type": "execute_result"
    }
   ],
   "source": [
    "def get_label_tag_occurrence(text: str, label_tag: str) -> int:\n",
    "    pattern = r\"\\\\label{\" + label_tag + r\":\\d+}\"\n",
    "    return len(re.findall(pattern, text))\n",
    "\n",
    "label_dict = {}\n",
    "for label_tag in [\n",
    "        \"def\", \n",
    "        \"thm\", \n",
    "        \"lem\", \n",
    "        \"cor\",\n",
    "        \"pro\",\n",
    "        \"eg\",\n",
    "        \"eq\",\n",
    "        \"ex\",\n",
    "        \"sec\"\n",
    "    ]:\n",
    "    label_dict[label_tag] = get_label_tag_occurrence(text, label_tag)\n",
    "pd.Series(label_dict)"
   ]
  },
  {
   "cell_type": "code",
   "execution_count": null,
   "metadata": {},
   "outputs": [],
   "source": []
  }
 ],
 "metadata": {
  "kernelspec": {
   "display_name": "Python 3.10.4 ('py-notes')",
   "language": "python",
   "name": "python3"
  },
  "language_info": {
   "codemirror_mode": {
    "name": "ipython",
    "version": 3
   },
   "file_extension": ".py",
   "mimetype": "text/x-python",
   "name": "python",
   "nbconvert_exporter": "python",
   "pygments_lexer": "ipython3",
   "version": "3.10.4"
  },
  "orig_nbformat": 4,
  "vscode": {
   "interpreter": {
    "hash": "4babc7668b3243039d90df321100345c1f189317b6347b62716421b0b469d95d"
   }
  }
 },
 "nbformat": 4,
 "nbformat_minor": 2
}
